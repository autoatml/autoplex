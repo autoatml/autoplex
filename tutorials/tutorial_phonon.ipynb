{
 "cells": [
  {
   "metadata": {},
   "cell_type": "markdown",
   "source": "Set some test folders with VASP output files for execution in the notebook!",
   "id": "40542b63fb55ab2a"
  },
  {
   "metadata": {
    "ExecuteTime": {
     "end_time": "2025-02-17T19:34:27.050050Z",
     "start_time": "2025-02-17T19:34:27.041759Z"
    }
   },
   "cell_type": "code",
   "source": [
    "ref_paths = {\n",
    "    \"tight relax 1_mp-117_0.94_pre1\": \"tutorial_data/tight_relax_1_mp-117_0.94_0_42\",\n",
    "    \"tight relax 1_mp-117_0.94_0\": \"tutorial_data/tight_relax_1_mp-117_0.94_0_42\",\n",
    "    \"tight relax 1_mp-117_0.94_1\": \"tutorial_data/tight_relax_1_mp-117_0.94_0_42\",\n",
    "    \"dft tight relax 1_mp-117_0.94_0\": \"tutorial_data/tight_relax_1_mp-117_0.94_0_42\",\n",
    "    \"tight relax 2_mp-117_0.94_pre1\": \"tutorial_data/tight_relax_2_mp-117_0.94_0_43\",\n",
    "    \"tight relax 2_mp-117_0.94_0\": \"tutorial_data/tight_relax_2_mp-117_0.94_0_43\",\n",
    "    \"tight relax 2_mp-117_0.94_1\": \"tutorial_data/tight_relax_2_mp-117_0.94_0_43\",\n",
    "    \"dft tight relax 2_mp-117_0.94_0\": \"tutorial_data/tight_relax_2_mp-117_0.94_0_43\",\n",
    "    \"dft static_mp-117_0.94_0\": \"tutorial_data/tight_relax_2_mp-117_0.94_0_43\",\n",
    "    \"tight relax 1_mp-117_1.0_pre1\": \"tutorial_data/tight_relax_1_mp-117_1.0_0_47\",\n",
    "    \"tight relax 1_mp-117_1.0_0\": \"tutorial_data/tight_relax_1_mp-117_1.0_0_47\",\n",
    "    \"tight relax 1_mp-117_1.0_1\": \"tutorial_data/tight_relax_1_mp-117_1.0_0_47\",\n",
    "    \"dft tight relax 1_mp-117_1.0_0\": \"tutorial_data/tight_relax_1_mp-117_1.0_0_47\",\n",
    "    \"dft tight relax 1_mp-117_1.0_1\": \"tutorial_data/tight_relax_1_mp-117_1.0_0_47\",\n",
    "    \"tight relax 2_mp-117_1.0_pre1\": \"tutorial_data/tight_relax_2_mp-117_1.0_0_48\",\n",
    "    \"tight relax 2_mp-117_1.0_0\": \"tutorial_data/tight_relax_2_mp-117_1.0_0_48\",\n",
    "    \"tight relax 2_mp-117_1.0_1\": \"tutorial_data/tight_relax_2_mp-117_1.0_0_48\",\n",
    "    \"dft tight relax 2_mp-117_1.0_0\": \"tutorial_data/tight_relax_2_mp-117_1.0_0_48\",\n",
    "    \"dft tight relax 2_mp-117_1.0_1\": \"tutorial_data/tight_relax_2_mp-117_1.0_0_48\",\n",
    "    \"dft static_mp-117_1.0_0\": \"tutorial_data/tight_relax_2_mp-117_1.0_0_48\",\n",
    "    \"tight relax 1_mp-117_1.06_pre1\": \"tutorial_data/tight_relax_1_mp-117_1.06_0_52\",\n",
    "    \"tight relax 1_mp-117_1.06_0\": \"tutorial_data/tight_relax_1_mp-117_1.06_0_52\",\n",
    "    \"tight relax 1_mp-117_1.06_1\": \"tutorial_data/tight_relax_1_mp-117_1.06_0_52\",\n",
    "    \"dft tight relax 1_mp-117_1.06_0\": \"tutorial_data/tight_relax_1_mp-117_1.06_0_52\",\n",
    "    \"dft tight relax 1_mp-117_1.06_1\": \"tutorial_data/tight_relax_1_mp-117_1.06_0_52\",\n",
    "    \"tight relax 2_mp-117_1.06_pre1\": \"tutorial_data/tight_relax_2_mp-117_1.06_0_53\",\n",
    "    \"tight relax 2_mp-117_1.06_0\": \"tutorial_data/tight_relax_2_mp-117_1.06_0_53\",\n",
    "    \"tight relax 2_mp-117_1.06_1\": \"tutorial_data/tight_relax_2_mp-117_1.06_0_53\",\n",
    "    \"dft tight relax 2_mp-117_1.06_0\": \"tutorial_data/tight_relax_2_mp-117_1.06_0_53\",\n",
    "    \"dft static_mp-117_1.06_0\": \"tutorial_data/tight_relax_2_mp-117_1.06_0_53\",\n",
    "    \"Sn-stat_iso_atom_0\": \"tutorial_data/Sn-stat_iso_atom_0_25\",\n",
    "    \"Sn-stat_iso_atom_1\": \"tutorial_data/Sn-stat_iso_atom_0_25\",\n",
    "    \"dft rattle static 1/1_mp-117_0.94_0\": \"tutorial_data/dft_rattle_static_1_1_mp-117_0.94_0_63\",\n",
    "    \"dft rattle static 1/1_mp-117_0.94_1\": \"tutorial_data/dft_rattle_static_1_1_mp-117_0.94_1_257\",\n",
    "    \"dft rattle static 1/1_mp-117_1.0_0\": \"tutorial_data/dft_rattle_static_1_1_mp-117_1.0_0_65\",\n",
    "    \"dft rattle static 1/1_mp-117_1.0_1\": \"tutorial_data/dft_rattle_static_1_1_mp-117_1.0_1_255\",\n",
    "    \"dft rattle static 1/1_mp-117_1.06_0\": \"tutorial_data/dft_rattle_static_1_1_mp-117_1.06_0_67\",\n",
    "    \"dft rattle static 1/1_mp-117_1.06_1\": \"tutorial_data/dft_rattle_static_1_1_mp-117_1.06_1_259\",\n",
    "    \"dft phonon static 1/1_mp-117_0.94_0\": \"tutorial_data/dft_phonon_static_1_1_mp-117_0.94_0_193\",\n",
    "    \"dft phonon static 1/1_mp-117_1.0_0\": \"tutorial_data/dft_phonon_static_1_1_mp-117_1.0_0_189\",\n",
    "    \"dft phonon static 1/1_mp-117_1.06_0\": \"tutorial_data/dft_phonon_static_1_1_mp-117_1.06_0_191\",\n",
    "}"
   ],
   "id": "2987b94171bee432",
   "outputs": [],
   "execution_count": 1
  },
  {
   "metadata": {
    "collapsed": true,
    "ExecuteTime": {
     "end_time": "2025-02-17T19:34:52.170648Z",
     "start_time": "2025-02-17T19:34:27.117539Z"
    }
   },
   "cell_type": "code",
   "source": [
    "from atomate2.vasp.flows.core import DoubleRelaxMaker\n",
    "from atomate2.vasp.jobs.core import StaticMaker, TightRelaxMaker\n",
    "from atomate2.vasp.jobs.phonons import PhononDisplacementMaker\n",
    "from atomate2.vasp.sets.core import StaticSetGenerator, TightRelaxSetGenerator\n",
    "from autoplex.auto.phonons.flows import (\n",
    "    CompleteDFTvsMLBenchmarkWorkflow,\n",
    "    IterativeCompleteDFTvsMLBenchmarkWorkflow,\n",
    ")\n",
    "from jobflow import run_locally, Flow\n",
    "from pymatgen.core.structure import Structure\n",
    "\n",
    "from mock_vasp import TEST_DIR, mock_vasp"
   ],
   "id": "initial_id",
   "outputs": [
    {
     "name": "stderr",
     "output_type": "stream",
     "text": [
      "/home/jgeorge/miniconda3/envs/2025_01_06_Fix_automated_finetuning/lib/python3.11/site-packages/tqdm/auto.py:21: TqdmWarning: IProgress not found. Please update jupyter and ipywidgets. See https://ipywidgets.readthedocs.io/en/stable/user_install.html\n",
      "  from .autonotebook import tqdm as notebook_tqdm\n",
      "/home/jgeorge/miniconda3/envs/2025_01_06_Fix_automated_finetuning/lib/python3.11/site-packages/nequip/__init__.py:20: UserWarning: !! PyTorch version 2.2.1+cu121 found. Upstream issues in PyTorch versions 1.13.* and 2.* have been seen to cause unusual performance degredations on some CUDA systems that become worse over time; see https://github.com/mir-group/nequip/discussions/311. The best tested PyTorch version to use with CUDA devices is 1.11; while using other versions if you observe this problem, an unexpected lack of this problem, or other strange behavior, please post in the linked GitHub issue.\n",
      "  warnings.warn(\n"
     ]
    }
   ],
   "execution_count": 2
  },
  {
   "metadata": {},
   "cell_type": "markdown",
   "source": "First, we define all relevant Makers for the workflow, used to train and finetune ML potentials for phonons. We need one for the relaxation in advance of the workflow and te later relaxations.",
   "id": "33f459e2523156ff"
  },
  {
   "metadata": {
    "ExecuteTime": {
     "end_time": "2025-02-17T19:35:02.023645Z",
     "start_time": "2025-02-17T19:35:02.012934Z"
    }
   },
   "cell_type": "code",
   "source": [
    "phonon_bulk_relax_maker = DoubleRelaxMaker.from_relax_maker(\n",
    "    TightRelaxMaker(\n",
    "        run_vasp_kwargs={\"handlers\": ()},\n",
    "        input_set_generator=TightRelaxSetGenerator(\n",
    "            user_incar_settings={\n",
    "                \"GGA\": \"PE\",\n",
    "                \"ISPIN\": 1,\n",
    "                \"KSPACING\": 0.1,\n",
    "                \"ALGO\": \"Normal\",\n",
    "                \"LAECHG\": False,\n",
    "                \"ISMEAR\": 1,\n",
    "                \"ENCUT\": 700,\n",
    "                \"IBRION\": 1,\n",
    "                \"ISYM\": 0,\n",
    "                \"SIGMA\": 0.05,\n",
    "                \"LCHARG\": False,\n",
    "                \"LWAVE\": False,\n",
    "                \"LVTOT\": False,\n",
    "                \"LORBIT\": None,\n",
    "                \"LOPTICS\": False,\n",
    "                \"LREAL\": False,\n",
    "                \"ISIF\": 4,\n",
    "                \"NPAR\": 4,\n",
    "            }\n",
    "        ),\n",
    "    )\n",
    ")"
   ],
   "id": "722ef5b09db476bf",
   "outputs": [],
   "execution_count": 3
  },
  {
   "metadata": {
    "ExecuteTime": {
     "end_time": "2025-02-17T19:35:06.225178Z",
     "start_time": "2025-02-17T19:35:06.219885Z"
    }
   },
   "cell_type": "code",
   "source": [
    "phonon_displacement_maker = PhononDisplacementMaker(\n",
    "    name=\"dft phonon static\",\n",
    "    run_vasp_kwargs={\"handlers\": ()},\n",
    "    input_set_generator=StaticSetGenerator(\n",
    "        user_incar_settings={\n",
    "            \"GGA\": \"PE\",\n",
    "            \"IBRION\": -1,\n",
    "            \"ISPIN\": 1,\n",
    "            \"ISMEAR\": 1,\n",
    "            \"ISIF\": 3,\n",
    "            \"ENCUT\": 700,\n",
    "            \"EDIFF\": 1e-7,\n",
    "            \"LAECHG\": False,\n",
    "            \"LREAL\": False,\n",
    "            \"ALGO\": \"Normal\",\n",
    "            \"NSW\": 0,\n",
    "            \"LCHARG\": False,\n",
    "            \"LWAVE\": False,\n",
    "            \"LVTOT\": False,\n",
    "            \"LORBIT\": None,\n",
    "            \"LOPTICS\": False,\n",
    "            \"SIGMA\": 0.05,\n",
    "            \"ISYM\": 0,\n",
    "            \"KSPACING\": 0.1,\n",
    "            \"NPAR\": 4,\n",
    "        },\n",
    "        auto_ispin=False,\n",
    "    ),\n",
    ")"
   ],
   "id": "92a73c8f9b54fb37",
   "outputs": [],
   "execution_count": 4
  },
  {
   "metadata": {
    "ExecuteTime": {
     "end_time": "2025-02-17T19:35:09.864983Z",
     "start_time": "2025-02-17T19:35:09.857922Z"
    }
   },
   "cell_type": "code",
   "source": [
    "phonon_static_energy_maker = phonon_displacement_maker\n",
    "\n",
    "static_isolated_atom_maker = StaticMaker(\n",
    "    run_vasp_kwargs={\"handlers\": ()},\n",
    "    input_set_generator=StaticSetGenerator(\n",
    "        user_kpoints_settings={\"reciprocal_density\": 1},\n",
    "        user_incar_settings={\n",
    "            \"GGA\": \"PE\",\n",
    "            \"ALGO\": \"Normal\",\n",
    "            \"ISPIN\": 1,\n",
    "            \"LAECHG\": False,\n",
    "            \"ISMEAR\": 0,\n",
    "            \"LCHARG\": False,\n",
    "            \"LWAVE\": False,\n",
    "            \"LVTOT\": False,\n",
    "            \"LORBIT\": None,\n",
    "            \"LOPTICS\": False,\n",
    "            \"NPAR\": 4,\n",
    "        },\n",
    "    ),\n",
    ")"
   ],
   "id": "78005d1a28749166",
   "outputs": [],
   "execution_count": 5
  },
  {
   "metadata": {},
   "cell_type": "markdown",
   "source": "First, collect a number of structures and then optimize them in advance of the workflow. One can also perform subsequent optimizations with different k-point settings, for example.",
   "id": "4569596578114637"
  },
  {
   "metadata": {
    "ExecuteTime": {
     "end_time": "2025-02-17T19:35:20.413058Z",
     "start_time": "2025-02-17T19:35:20.068210Z"
    }
   },
   "cell_type": "code",
   "source": [
    "job_list = []\n",
    "\n",
    "\n",
    "structure_list = []\n",
    "benchmark_structure_list = []\n",
    "start_mpids = [\"mp-117\"]\n",
    "start_poscar = [TEST_DIR / \"tutorial_data/POSCAR-mp-117\"]\n",
    "\n",
    "mpids = []\n",
    "for mpid, start_poscar in zip(start_mpids, start_poscar):\n",
    "    for scale in [0.94, 1.0, 1.06]:\n",
    "        structure = Structure.from_file(start_poscar)\n",
    "        volume = structure.copy().volume\n",
    "        structure = structure.scale_lattice((scale**3) * volume)  # added the cube\n",
    "        job_opt = phonon_bulk_relax_maker.make(structure)\n",
    "        job_opt.append_name(\"_\" + mpid + \"_\" + str(scale) + \"_pre1\")\n",
    "        job_list.append(job_opt)\n",
    "        structure_list.append(job_opt.output.structure)\n",
    "        mpids.append(mpid + \"_\" + str(scale))\n",
    "\n",
    "\n",
    "mpbenchmark = mpids\n",
    "benchmark_structure_list = structure_list"
   ],
   "id": "33f5c619d2247ca5",
   "outputs": [],
   "execution_count": 6
  },
  {
   "metadata": {
    "ExecuteTime": {
     "end_time": "2025-02-17T19:35:20.620655Z",
     "start_time": "2025-02-17T19:35:20.600254Z"
    }
   },
   "cell_type": "code",
   "source": [
    "iteration_flow = IterativeCompleteDFTvsMLBenchmarkWorkflow(\n",
    "    max_iterations=2,\n",
    "    rms_max=0.2,\n",
    "    complete_dft_vs_ml_benchmark_workflow_0=CompleteDFTvsMLBenchmarkWorkflow(\n",
    "        symprec=1e-3,\n",
    "        apply_data_preprocessing=True,\n",
    "        add_dft_rattled_struct=True,\n",
    "        add_dft_phonon_struct=True,\n",
    "        volume_custom_scale_factors=[1.0],\n",
    "        rattle_type=0,\n",
    "        distort_type=0,\n",
    "        rattle_std=0.1,  #\n",
    "        benchmark_kwargs={\"relax_maker_kwargs\": {\"relax_cell\": False}},\n",
    "        supercell_settings={\n",
    "            \"min_length\": 10,\n",
    "            \"max_length\": 15,\n",
    "            \"min_atoms\": 10,\n",
    "            \"max_atoms\": 300,\n",
    "            \"fallback_min_length\": 9,\n",
    "        },\n",
    "        # settings that worked with a GAP\n",
    "        split_ratio=0.33,\n",
    "        regularization=False,\n",
    "        separated=False,\n",
    "        num_processes_fit=48,\n",
    "        displacement_maker=phonon_displacement_maker,\n",
    "        phonon_bulk_relax_maker=phonon_bulk_relax_maker,\n",
    "        phonon_static_energy_maker=phonon_static_energy_maker,\n",
    "        rattled_bulk_relax_maker=phonon_bulk_relax_maker,\n",
    "        isolated_atom_maker=static_isolated_atom_maker,\n",
    "    ),\n",
    "    complete_dft_vs_ml_benchmark_workflow_1=CompleteDFTvsMLBenchmarkWorkflow(\n",
    "        symprec=1e-3,\n",
    "        apply_data_preprocessing=True,\n",
    "        add_dft_phonon_struct=False,\n",
    "        add_dft_rattled_struct=True,\n",
    "        volume_custom_scale_factors=[1.0],\n",
    "        rattle_type=0,\n",
    "        distort_type=0,\n",
    "        rattle_std=0.1,  # maybe 0.1\n",
    "        benchmark_kwargs={\"relax_maker_kwargs\": {\"relax_cell\": False}},\n",
    "        supercell_settings={\n",
    "            \"min_length\": 10,\n",
    "            \"max_length\": 15,\n",
    "            \"min_atoms\": 10,\n",
    "            \"max_atoms\": 300,\n",
    "            \"fallback_min_length\": 9,\n",
    "        },\n",
    "        # settings that worked with a GAP\n",
    "        split_ratio=0.33,\n",
    "        regularization=False,\n",
    "        separated=False,\n",
    "        num_processes_fit=48,\n",
    "        displacement_maker=phonon_displacement_maker,\n",
    "        phonon_bulk_relax_maker=phonon_bulk_relax_maker,\n",
    "        phonon_static_energy_maker=phonon_static_energy_maker,\n",
    "        rattled_bulk_relax_maker=phonon_bulk_relax_maker,\n",
    "        isolated_atom_maker=static_isolated_atom_maker,\n",
    "    ),\n",
    ").make(\n",
    "    structure_list=structure_list,\n",
    "    mp_ids=mpids,\n",
    "    benchmark_structures=benchmark_structure_list,\n",
    "    benchmark_mp_ids=mpbenchmark,\n",
    "    rattle_seed=0,\n",
    "    fit_kwargs_list=[\n",
    "        {\n",
    "            \"soap\": {\n",
    "                \"delta\": 1.0,\n",
    "                \"l_max\": 12,\n",
    "                \"n_max\": 10,\n",
    "                \"atom_sigma\": 0.5,\n",
    "                \"zeta\": 4,\n",
    "                \"cutoff\": 5.0,\n",
    "                \"cutoff_transition_width\": 1.0,\n",
    "                \"central_weight\": 1.0,\n",
    "                \"n_sparse\": 6000,\n",
    "                \"f0\": 0.0,\n",
    "                \"covariance_type\": \"dot_product\",\n",
    "                \"sparse_method\": \"cur_points\",\n",
    "            },\n",
    "            \"general\": {\n",
    "                \"two_body\": True,\n",
    "                \"three_body\": False,\n",
    "                \"soap\": True,\n",
    "                \"default_sigma\": \"{0.001 0.05 0.05 0.0}\",\n",
    "                \"sparse_jitter\": 1.0e-8,\n",
    "            },\n",
    "        }\n",
    "    ],\n",
    ")\n",
    "\n",
    "job_list.append(iteration_flow)\n",
    "autoplex_flow = Flow(jobs=job_list, output=iteration_flow.output)"
   ],
   "id": "267b672052f3ac63",
   "outputs": [],
   "execution_count": 7
  },
  {
   "metadata": {},
   "cell_type": "markdown",
   "source": "Now, we are mocking the VASP execution. If you would like leave all folders from the run, set `clean_folders` to False!",
   "id": "651535bac9a53cc3"
  },
  {
   "metadata": {
    "jupyter": {
     "is_executing": true
    },
    "ExecuteTime": {
     "start_time": "2025-02-17T19:35:21.039570Z"
    }
   },
   "cell_type": "code",
   "source": [
    "with mock_vasp(ref_paths=ref_paths, clean_folders=False) as mf:\n",
    "    run_locally(\n",
    "        autoplex_flow,\n",
    "        create_folders=True,\n",
    "        ensure_success=True,\n",
    "        raise_immediately=True,\n",
    "    )"
   ],
   "id": "f261e7380ecfa2d5",
   "outputs": [
    {
     "name": "stdout",
     "output_type": "stream",
     "text": [
      "2025-02-17 20:35:21,078 INFO Started executing jobs locally\n"
     ]
    },
    {
     "name": "stderr",
     "output_type": "stream",
     "text": [
      "2025-02-17 20:35:21,078 - INFO - Started executing jobs locally\n"
     ]
    },
    {
     "name": "stdout",
     "output_type": "stream",
     "text": [
      "2025-02-17 20:35:21,106 INFO Starting job - tight relax 1_mp-117_0.94_pre1 (0100d943-bf1f-4314-937a-ea2dca08e185)\n"
     ]
    },
    {
     "name": "stderr",
     "output_type": "stream",
     "text": [
      "2025-02-17 20:35:21,106 - INFO - Starting job - tight relax 1_mp-117_0.94_pre1 (0100d943-bf1f-4314-937a-ea2dca08e185)\n",
      "2025-02-17 20:35:21,110 - INFO - Writing VASP input set.\n",
      "2025-02-17 20:35:21,111 - INFO - Running fake VASP.\n",
      "2025-02-17 20:35:21,112 - INFO - Verified inputs successfully\n",
      "2025-02-17 20:35:21,112 - INFO - Cleared vasp inputs\n",
      "2025-02-17 20:35:21,262 - INFO - Generated fake vasp outputs\n",
      "2025-02-17 20:35:21,263 - INFO - Getting task doc in: /tmp/tmpf6mafj92/job_2025-02-17-19-35-21-102028-17626\n",
      "/home/jgeorge/miniconda3/envs/2025_01_06_Fix_automated_finetuning/lib/python3.11/site-packages/pymatgen/io/vasp/outputs.py:1219: UserWarning: No POTCAR file with matching TITEL fields was found in\n",
      "\n",
      "  warnings.warn(\"No POTCAR file with matching TITEL fields was found in\\n\" + \"\\n  \".join(potcar_paths))\n",
      "2025-02-17 20:35:22,130 - WARNING - Error in parsing bandstructure\n",
      "2025-02-17 20:35:22,130 - WARNING - VASP doesn't properly output efermi for IBRION == 1\n"
     ]
    },
    {
     "name": "stdout",
     "output_type": "stream",
     "text": [
      "2025-02-17 20:35:22,171 INFO Finished job - tight relax 1_mp-117_0.94_pre1 (0100d943-bf1f-4314-937a-ea2dca08e185)\n"
     ]
    },
    {
     "name": "stderr",
     "output_type": "stream",
     "text": [
      "2025-02-17 20:35:22,171 - INFO - Finished job - tight relax 1_mp-117_0.94_pre1 (0100d943-bf1f-4314-937a-ea2dca08e185)\n"
     ]
    },
    {
     "name": "stdout",
     "output_type": "stream",
     "text": [
      "2025-02-17 20:35:22,172 WARNING Response.stored_data is not supported with local manager.\n"
     ]
    },
    {
     "name": "stderr",
     "output_type": "stream",
     "text": [
      "2025-02-17 20:35:22,172 - WARNING - Response.stored_data is not supported with local manager.\n"
     ]
    },
    {
     "name": "stdout",
     "output_type": "stream",
     "text": [
      "2025-02-17 20:35:22,173 INFO Starting job - tight relax 1_mp-117_1.0_pre1 (28d57413-662b-4603-92ba-0e4bdb6703da)\n"
     ]
    },
    {
     "name": "stderr",
     "output_type": "stream",
     "text": [
      "2025-02-17 20:35:22,173 - INFO - Starting job - tight relax 1_mp-117_1.0_pre1 (28d57413-662b-4603-92ba-0e4bdb6703da)\n",
      "2025-02-17 20:35:22,177 - INFO - Writing VASP input set.\n",
      "2025-02-17 20:35:22,179 - INFO - Running fake VASP.\n",
      "2025-02-17 20:35:22,179 - INFO - Verified inputs successfully\n",
      "2025-02-17 20:35:22,180 - INFO - Cleared vasp inputs\n",
      "2025-02-17 20:35:22,365 - INFO - Generated fake vasp outputs\n",
      "2025-02-17 20:35:22,366 - INFO - Getting task doc in: /tmp/tmpf6mafj92/job_2025-02-17-19-35-22-173454-78346\n",
      "2025-02-17 20:35:22,835 - WARNING - Error in parsing bandstructure\n",
      "2025-02-17 20:35:22,836 - WARNING - VASP doesn't properly output efermi for IBRION == 1\n"
     ]
    },
    {
     "name": "stdout",
     "output_type": "stream",
     "text": [
      "2025-02-17 20:35:22,876 INFO Finished job - tight relax 1_mp-117_1.0_pre1 (28d57413-662b-4603-92ba-0e4bdb6703da)\n"
     ]
    },
    {
     "name": "stderr",
     "output_type": "stream",
     "text": [
      "2025-02-17 20:35:22,876 - INFO - Finished job - tight relax 1_mp-117_1.0_pre1 (28d57413-662b-4603-92ba-0e4bdb6703da)\n"
     ]
    },
    {
     "name": "stdout",
     "output_type": "stream",
     "text": [
      "2025-02-17 20:35:22,877 WARNING Response.stored_data is not supported with local manager.\n"
     ]
    },
    {
     "name": "stderr",
     "output_type": "stream",
     "text": [
      "2025-02-17 20:35:22,877 - WARNING - Response.stored_data is not supported with local manager.\n"
     ]
    },
    {
     "name": "stdout",
     "output_type": "stream",
     "text": [
      "2025-02-17 20:35:22,878 INFO Starting job - tight relax 1_mp-117_1.06_pre1 (eb5b0f94-ea4a-4f05-9e04-ccefac1251f2)\n"
     ]
    },
    {
     "name": "stderr",
     "output_type": "stream",
     "text": [
      "2025-02-17 20:35:22,878 - INFO - Starting job - tight relax 1_mp-117_1.06_pre1 (eb5b0f94-ea4a-4f05-9e04-ccefac1251f2)\n",
      "2025-02-17 20:35:22,881 - INFO - Writing VASP input set.\n",
      "2025-02-17 20:35:22,884 - INFO - Running fake VASP.\n",
      "2025-02-17 20:35:22,884 - INFO - Verified inputs successfully\n",
      "2025-02-17 20:35:22,885 - INFO - Cleared vasp inputs\n",
      "2025-02-17 20:35:23,013 - INFO - Generated fake vasp outputs\n",
      "2025-02-17 20:35:23,013 - INFO - Getting task doc in: /tmp/tmpf6mafj92/job_2025-02-17-19-35-22-878500-45409\n",
      "2025-02-17 20:35:23,698 - WARNING - Error in parsing bandstructure\n",
      "2025-02-17 20:35:23,699 - WARNING - VASP doesn't properly output efermi for IBRION == 1\n"
     ]
    },
    {
     "name": "stdout",
     "output_type": "stream",
     "text": [
      "2025-02-17 20:35:23,738 INFO Finished job - tight relax 1_mp-117_1.06_pre1 (eb5b0f94-ea4a-4f05-9e04-ccefac1251f2)\n"
     ]
    },
    {
     "name": "stderr",
     "output_type": "stream",
     "text": [
      "2025-02-17 20:35:23,738 - INFO - Finished job - tight relax 1_mp-117_1.06_pre1 (eb5b0f94-ea4a-4f05-9e04-ccefac1251f2)\n"
     ]
    },
    {
     "name": "stdout",
     "output_type": "stream",
     "text": [
      "2025-02-17 20:35:23,739 WARNING Response.stored_data is not supported with local manager.\n"
     ]
    },
    {
     "name": "stderr",
     "output_type": "stream",
     "text": [
      "2025-02-17 20:35:23,739 - WARNING - Response.stored_data is not supported with local manager.\n"
     ]
    },
    {
     "name": "stdout",
     "output_type": "stream",
     "text": [
      "2025-02-17 20:35:23,740 INFO Starting job - tight relax 2_mp-117_0.94_pre1 (db08e3d8-2f1f-46a2-bf8a-3b49b2447f64)\n"
     ]
    },
    {
     "name": "stderr",
     "output_type": "stream",
     "text": [
      "2025-02-17 20:35:23,740 - INFO - Starting job - tight relax 2_mp-117_0.94_pre1 (db08e3d8-2f1f-46a2-bf8a-3b49b2447f64)\n",
      "2025-02-17 20:35:23,754 - INFO - Copying VASP inputs from /tmp/tmpf6mafj92/job_2025-02-17-19-35-21-102028-17626\n",
      "/home/jgeorge/miniconda3/envs/2025_01_06_Fix_automated_finetuning/lib/python3.11/site-packages/atomate2/common/files.py:268: UserWarning: /tmp/tmpf6mafj92/job_2025-02-17-19-35-23-740291-30637/POTCAR.spec is not gzipped, skipping...\n",
      "  file_client.gunzip(directory / file, host=host, force=force)\n",
      "2025-02-17 20:35:23,842 - INFO - Finished copying inputs\n"
     ]
    }
   ],
   "execution_count": null
  },
  {
   "metadata": {
    "ExecuteTime": {
     "end_time": "2025-02-17T18:35:51.359050Z",
     "start_time": "2025-02-17T18:35:51.356912Z"
    }
   },
   "cell_type": "code",
   "source": "",
   "id": "6b9dc38ca21f4182",
   "outputs": [],
   "execution_count": null
  }
 ],
 "metadata": {
  "kernelspec": {
   "display_name": "Python 3",
   "language": "python",
   "name": "python3"
  },
  "language_info": {
   "codemirror_mode": {
    "name": "ipython",
    "version": 2
   },
   "file_extension": ".py",
   "mimetype": "text/x-python",
   "name": "python",
   "nbconvert_exporter": "python",
   "pygments_lexer": "ipython2",
   "version": "2.7.6"
  }
 },
 "nbformat": 4,
 "nbformat_minor": 5
}
