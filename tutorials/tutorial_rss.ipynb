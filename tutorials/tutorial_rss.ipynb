{
 "cells": [
  {
   "metadata": {},
   "cell_type": "code",
   "outputs": [],
   "execution_count": null,
   "source": [
    "import os\n",
    "os.environ[\"OMP_NUM_THREADS\"] = \"1\""
   ],
   "id": "18d3f6bdd01d1b2a"
  },
  {
   "metadata": {
    "ExecuteTime": {
     "end_time": "2025-02-20T15:32:04.501902Z",
     "start_time": "2025-02-20T15:32:04.497165Z"
    }
   },
   "cell_type": "code",
   "outputs": [],
   "execution_count": 1,
   "source": [
    "# We need this to run the tutorial directly in the jupyter notebook\n",
    "ref_paths = {}\n",
    "base_path = \"vasp/rss_Si_small/\"\n",
    "\n",
    "for i in range(20):\n",
    "    ref_paths[f\"static_bulk_{i}\"] = f\"{base_path}static_bulk_{i}\"\n",
    "\n",
    "ref_paths[\"static_isolated_0\"] = f\"{base_path}static_isolated_0\""
   ],
   "id": "4569479425ba4773"
  },
  {
   "metadata": {},
   "cell_type": "markdown",
   "source": "We are using a config file. You can take a look at it here:",
   "id": "a472995c01cb66"
  },
  {
   "metadata": {
    "ExecuteTime": {
     "end_time": "2025-02-20T15:32:05.830070Z",
     "start_time": "2025-02-20T15:32:04.543021Z"
    }
   },
   "cell_type": "code",
   "source": [
    "from autoplex.settings import RssConfig\n",
    "rss_config = RssConfig.from_file('rss_si_config.yaml')\n",
    "print(rss_config)"
   ],
   "id": "18f954a6d89e9322",
   "outputs": [
    {
     "name": "stdout",
     "output_type": "stream",
     "text": [
      "tag='Si' train_from_scratch=True resume_from_previous_state=ResumeFromPreviousState(test_error=None, pre_database_dir=None, mlip_path=None, isolated_atom_energies=None) generated_struct_numbers=[1000] buildcell_options=[BuildcellOptions(ABFIX=False, NFORM='1', SYMMOPS='1-4', SYSTEM=None, SLACK=0.25, OCTET=False, OVERLAP=0.1, MINSEP=None, NATOM='{6,8,10,12,14,16,18,20,22,24}')] fragment_file=None fragment_numbers=None num_processes_buildcell=128 num_of_initial_selected_structs=[20] num_of_rss_selected_structs=10 initial_selection_enabled=True rss_selection_method='bcur2i' bcur_params=BcurParams(soap_paras=SoapParas(l_max=12, n_max=12, atom_sigma=0.0875, cutoff=10.5, cutoff_transition_width=1.0, zeta=4.0, average=True, species=True), frac_of_bcur=0.8, bolt_max_num=3000) random_seed=None include_isolated_atom=True isolatedatom_box=[20.0, 20.0, 20.0] e0_spin=False include_dimer=False dimer_box=[20.0, 20.0, 20.0] dimer_range=[1.0, 5.0] dimer_num=21 custom_incar=CustomIncar(ISMEAR=0, SIGMA=0.05, PREC='Normal', ADDGRID='.TRUE.', EDIFF=1e-05, NELM=250, LWAVE='.FALSE.', LCHARG='.FALSE.', ALGO='Normal', AMIX=None, LREAL='.FALSE.', ISYM=0, ENCUT=300.0, KSPACING=0.2, GGA=None, KPAR=8, NCORE=16, LSCALAPACK='.FALSE.', LPLANE='.FALSE.') custom_potcar=None vasp_ref_file='vasp_ref.extxyz' config_types=['initial', 'traj_early', 'traj'] rss_group=['traj'] test_ratio=0.0 regularization=True retain_existing_sigma=False scheme='linear-hull' reg_minmax=[[0.1, 1.0], [0.001, 0.1], [0.0316, 0.316], [0.0632, 0.632]] distillation=False force_max=None force_label=None pre_database_dir=None mlip_type='GAP' ref_energy_name='REF_energy' ref_force_name='REF_forces' ref_virial_name='REF_virial' auto_delta=True num_processes_fit=32 device_for_fitting='cpu' scalar_pressure_method='uniform' scalar_exp_pressure=1 scalar_pressure_exponential_width=0.2 scalar_pressure_low=0 scalar_pressure_high=25 max_steps=200 force_tol=0.01 stress_tol=0.01 stop_criterion=1e-14 max_iteration_number=2 num_groups=6 initial_kt=0.3 current_iter_index=1 hookean_repul=False hookean_paras=None keep_symmetry=False write_traj=True num_processes_rss=128 device_for_rss='cpu' mlip_hypers=MLIPHypers(GAP=GAPSettings(general=GAPGeneralSettings(at_file='train.extxyz', default_sigma='{0.0001 0.05 0.05 0}', energy_parameter_name='REF_energy', force_parameter_name='REF_forces', virial_parameter_name='REF_virial', sparse_jitter=1e-08, do_copy_at_file='F', openmp_chunk_size=10000, gp_file='gap_file.xml', e0_offset=0.0, two_body=False, three_body=False, soap=True), twob=TwobSettings(distance_Nb_order=2, f0=0.0, add_species='T', cutoff=5.0, n_sparse=15, covariance_type='ard_se', delta=2.0, theta_uniform=0.5, sparse_method='uniform', compact_clusters='T', distance_Nb_order=2), threeb=ThreebSettings(distance_Nb_order=3, f0=0.0, add_species='T', cutoff=3.25, n_sparse=100, covariance_type='ard_se', delta=2.0, theta_uniform=1.0, sparse_method='uniform', compact_clusters='T', distance_Nb_order=3), soap=SoapSettings(add_species='T', l_max=6, n_max=8, atom_sigma=0.5, zeta=4, cutoff=5.0, cutoff_transition_width=1.0, central_weight=1.0, n_sparse=1000, delta=1.0, f0=0.0, covariance_type='dot_product', sparse_method='cur_points')), J_ACE=JACESettings(order=3, totaldegree=6, cutoff=2.0, solver='BLR'), NEQUIP=NEQUIPSettings(root='results', run_name='autoplex', seed=123, dataset_seed=123, append=False, default_dtype='float64', model_dtype='float64', allow_tf32=True, r_max=4.0, num_layers=4, l_max=2, parity=True, num_features=32, nonlinearity_type='gate', nonlinearity_scalars=Nonlinearity(e='silu', o='tanh'), nonlinearity_gates=Nonlinearity(e='silu', o='tanh'), num_basis=8, besselbasis_trainable=True, polynomialcutoff_p=5, invariant_layers=2, invariant_neurons=64, avg_num_neighbors='auto', use_sc=True, dataset='ase', validation_dataset='ase', dataset_file_name='./train_nequip.extxyz', validation_dataset_file_name='./test.extxyz', ase_args={'format': 'extxyz'}, dataset_key_mapping={'forces': 'forces', 'energy': 'total_energy'}, validation_dataset_key_mapping={'forces': 'forces', 'energy': 'total_energy'}, chemical_symbols=[], wandb=False, verbose='info', log_batch_freq=10, log_epoch_freq=1, save_checkpoint_freq=-1, save_ema_checkpoint_freq=-1, n_train=1000, n_val=1000, learning_rate=0.005, batch_size=5, validation_batch_size=10, max_epochs=10000, shuffle=True, metrics_key='validation_loss', use_ema=True, ema_decay=0.99, ema_use_num_updates=True, report_init_validation=True, early_stopping_patiences={'validation_loss': 50}, early_stopping_lower_bounds={'LR': 1e-05}, loss_coeffs=LossCoeff(forces=1, total_energy=[1, 'PerAtomMSELoss']), metrics_components=[['forces', 'mae'], ['forces', 'rmse'], ['forces', 'mae', {'PerSpecies': True, 'report_per_component': False}], ['forces', 'rmse', {'PerSpecies': True, 'report_per_component': False}], ['total_energy', 'mae'], ['total_energy', 'mae', {'PerAtom': True}]], optimizer_name='Adam', optimizer_amsgrad=True, lr_scheduler_name='ReduceLROnPlateau', lr_scheduler_patience=100, lr_scheduler_factor=0.5, per_species_rescale_shifts_trainable=False, per_species_rescale_scales_trainable=False, per_species_rescale_shifts='dataset_per_atom_total_energy_mean', per_species_rescale_scales='dataset_per_species_forces_rms'), M3GNET=M3GNETSettings(exp_name='training', results_dir='m3gnet_results', foundation_model=None, use_foundation_model_element_refs=False, allow_missing_labels=False, cutoff=5.0, threebody_cutoff=4.0, batch_size=10, max_epochs=1000, include_stresses=True, data_mean=0.0, data_std=1.0, decay_steps=1000, decay_alpha=0.96, dim_node_embedding=128, dim_edge_embedding=128, dim_state_embedding=0, energy_weight=1.0, element_refs=None, force_weight=1.0, include_line_graph=True, loss='mse_loss', loss_params=None, lr=0.001, magmom_target='absolute', magmom_weight=0.0, max_l=4, max_n=4, nblocks=3, optimizer=None, rbf_type='Gaussian', scheduler=None, stress_weight=0.0, sync_dist=False, is_intensive=False, units=128), MACE=MACESettings(model='MACE', name='MACE_model', amsgrad=True, batch_size=10, compute_avg_num_neighbors=True, compute_forces=True, config_type_weights=\"{'Default':1.0}\", compute_stress=False, compute_statistics=False, correlation=3, default_dtype='float32', device='cpu', distributed=False, energy_weight=1.0, ema=True, ema_decay=0.99, E0s=None, forces_weight=100.0, foundation_filter_elements=True, foundation_model=None, foundation_model_readout=True, keep_checkpoint=False, keep_isolated_atoms=False, hidden_irreps='128x0e + 128x1o', loss='huber', lr=0.001, multiheads_finetuning=False, max_num_epochs=1500, pair_repulsion=False, patience=2048, r_max=5.0, restart_latest=False, seed=123, save_cpu=True, save_all_checkpoints=False, scaling='rms_forces_scaling', stress_weight=1.0, start_swa=1200, swa=True, valid_batch_size=10, virials_weight=1.0, wandb=False), NEP=NEPSettings(version=4, type=[1, 'X'], type_weight=1.0, model_type=0, prediction=0, cutoff=[6, 5], n_max=[4, 4], basis_size=[8, 8], l_max=[4, 2, 1], neuron=80, lambda_1=0.0, lambda_e=1.0, lambda_f=1.0, lambda_v=0.1, force_delta=0, batch=1000, population=60, generation=100000, zbl=2))\n"
     ]
    }
   ],
   "execution_count": 2
  },
  {
   "metadata": {},
   "cell_type": "raw",
   "source": "Now, we use this configuration to start the RSSMaker. We have chose a very small number of structures here. In reality, you would need many hundreds of calculation per genertion.",
   "id": "bba5ffaf7888e7b5"
  },
  {
   "metadata": {
    "collapsed": true,
    "ExecuteTime": {
     "end_time": "2025-02-20T15:32:11.741637Z",
     "start_time": "2025-02-20T15:32:05.991946Z"
    }
   },
   "cell_type": "code",
   "source": [
    "from autoplex.auto.rss.flows import RssMaker\n",
    "from atomate2.vasp.powerups import update_user_incar_settings\n",
    "from atomate2.vasp.powerups import update_vasp_custodian_handlers\n",
    "from jobflow import Flow\n",
    "\n",
    "\n",
    "rss_job = RssMaker(name=\"rss\", rss_config=rss_config).make()\n",
    "\n",
    "autoplex_flow = update_user_incar_settings(Flow(jobs=[rss_job], output=rss_job.output), {\"NPAR\": 4})\n",
    "\n",
    "autoplex_flow = update_vasp_custodian_handlers(autoplex_flow, custom_handlers={})\n",
    "\n",
    "autoplex_flow.name = \"new test rss\""
   ],
   "id": "initial_id",
   "outputs": [
    {
     "name": "stderr",
     "output_type": "stream",
     "text": [
      "/home/jgeorge/miniconda3/envs/2025_01_06_Fix_automated_finetuning/lib/python3.11/site-packages/tqdm/auto.py:21: TqdmWarning: IProgress not found. Please update jupyter and ipywidgets. See https://ipywidgets.readthedocs.io/en/stable/user_install.html\n",
      "  from .autonotebook import tqdm as notebook_tqdm\n",
      "/home/jgeorge/miniconda3/envs/2025_01_06_Fix_automated_finetuning/lib/python3.11/site-packages/nequip/__init__.py:20: UserWarning: !! PyTorch version 2.2.1+cu121 found. Upstream issues in PyTorch versions 1.13.* and 2.* have been seen to cause unusual performance degredations on some CUDA systems that become worse over time; see https://github.com/mir-group/nequip/discussions/311. The best tested PyTorch version to use with CUDA devices is 1.11; while using other versions if you observe this problem, an unexpected lack of this problem, or other strange behavior, please post in the linked GitHub issue.\n",
      "  warnings.warn(\n"
     ]
    }
   ],
   "execution_count": 3
  },
  {
   "metadata": {
    "ExecuteTime": {
     "end_time": "2025-02-20T15:32:13.199834Z",
     "start_time": "2025-02-20T15:32:11.748696Z"
    }
   },
   "cell_type": "code",
   "source": [
    "from mock_vasp import mock_vasp\n",
    "from jobflow import run_locally\n",
    "\n",
    "with mock_vasp(ref_paths=ref_paths, clean_folders=True) as mf:\n",
    "    run_locally(\n",
    "        autoplex_flow,\n",
    "        create_folders=True,\n",
    "        ensure_success=True,\n",
    "        raise_immediately=True,\n",
    "    )"
   ],
   "id": "f17a7c72b69e175e",
   "outputs": [
    {
     "name": "stdout",
     "output_type": "stream",
     "text": [
      "2025-02-20 16:32:12,293 INFO Started executing jobs locally\n"
     ]
    },
    {
     "name": "stderr",
     "output_type": "stream",
     "text": [
      "2025-02-20 16:32:12,293 - INFO - Started executing jobs locally\n"
     ]
    },
    {
     "name": "stdout",
     "output_type": "stream",
     "text": [
      "2025-02-20 16:32:12,299 INFO Starting job - rss (b36a55bb-2f22-47ea-8bfb-c919e92846ba)\n"
     ]
    },
    {
     "name": "stderr",
     "output_type": "stream",
     "text": [
      "2025-02-20 16:32:12,299 - INFO - Starting job - rss (b36a55bb-2f22-47ea-8bfb-c919e92846ba)\n"
     ]
    },
    {
     "name": "stdout",
     "output_type": "stream",
     "text": [
      "2025-02-20 16:32:12,514 INFO Finished job - rss (b36a55bb-2f22-47ea-8bfb-c919e92846ba)\n"
     ]
    },
    {
     "name": "stderr",
     "output_type": "stream",
     "text": [
      "2025-02-20 16:32:12,514 - INFO - Finished job - rss (b36a55bb-2f22-47ea-8bfb-c919e92846ba)\n"
     ]
    },
    {
     "name": "stdout",
     "output_type": "stream",
     "text": [
      "2025-02-20 16:32:12,517 INFO Starting job - initial_rss (b7a0a2ab-6044-45d9-bd9d-76527a1e991c)\n"
     ]
    },
    {
     "name": "stderr",
     "output_type": "stream",
     "text": [
      "2025-02-20 16:32:12,517 - INFO - Starting job - initial_rss (b7a0a2ab-6044-45d9-bd9d-76527a1e991c)\n"
     ]
    },
    {
     "name": "stdout",
     "output_type": "stream",
     "text": [
      "[{'ABFIX': False, 'NFORM': '1', 'SYMMOPS': '1-4', 'SLACK': 0.25, 'OCTET': False, 'OVERLAP': 0.1, 'NATOM': '{6,8,10,12,14,16,18,20,22,24}'}]\n",
      "2025-02-20 16:32:12,520 INFO Finished job - initial_rss (b7a0a2ab-6044-45d9-bd9d-76527a1e991c)\n"
     ]
    },
    {
     "name": "stderr",
     "output_type": "stream",
     "text": [
      "2025-02-20 16:32:12,520 - INFO - Finished job - initial_rss (b7a0a2ab-6044-45d9-bd9d-76527a1e991c)\n"
     ]
    },
    {
     "name": "stdout",
     "output_type": "stream",
     "text": [
      "2025-02-20 16:32:12,524 INFO Starting job - do_randomized_structure_generation (997f3881-0efb-4910-bd06-1193014fc61d)\n"
     ]
    },
    {
     "name": "stderr",
     "output_type": "stream",
     "text": [
      "2025-02-20 16:32:12,524 - INFO - Starting job - do_randomized_structure_generation (997f3881-0efb-4910-bd06-1193014fc61d)\n"
     ]
    },
    {
     "ename": "RuntimeError",
     "evalue": "RSS flows requires the executable 'buildcell' to be in PATH. Please follow the instructions in the autoplex documentation to install the AIRSS library and add it to PATH. Link to the documentation: https://autoatml.github.io/autoplex/user/index.html#enabling-rss-workflows",
     "output_type": "error",
     "traceback": [
      "\u001B[0;31m---------------------------------------------------------------------------\u001B[0m",
      "\u001B[0;31mRuntimeError\u001B[0m                              Traceback (most recent call last)",
      "Cell \u001B[0;32mIn[4], line 5\u001B[0m\n\u001B[1;32m      2\u001B[0m \u001B[38;5;28;01mfrom\u001B[39;00m \u001B[38;5;21;01mjobflow\u001B[39;00m \u001B[38;5;28;01mimport\u001B[39;00m run_locally\n\u001B[1;32m      4\u001B[0m \u001B[38;5;28;01mwith\u001B[39;00m mock_vasp(ref_paths\u001B[38;5;241m=\u001B[39mref_paths, clean_folders\u001B[38;5;241m=\u001B[39m\u001B[38;5;28;01mTrue\u001B[39;00m) \u001B[38;5;28;01mas\u001B[39;00m mf:\n\u001B[0;32m----> 5\u001B[0m     run_locally(\n\u001B[1;32m      6\u001B[0m         autoplex_flow,\n\u001B[1;32m      7\u001B[0m         create_folders\u001B[38;5;241m=\u001B[39m\u001B[38;5;28;01mTrue\u001B[39;00m,\n\u001B[1;32m      8\u001B[0m         ensure_success\u001B[38;5;241m=\u001B[39m\u001B[38;5;28;01mTrue\u001B[39;00m,\n\u001B[1;32m      9\u001B[0m         raise_immediately\u001B[38;5;241m=\u001B[39m\u001B[38;5;28;01mTrue\u001B[39;00m,\n\u001B[1;32m     10\u001B[0m     )\n",
      "File \u001B[0;32m~/miniconda3/envs/2025_01_06_Fix_automated_finetuning/lib/python3.11/site-packages/jobflow/managers/local.py:180\u001B[0m, in \u001B[0;36mrun_locally\u001B[0;34m(flow, log, store, create_folders, root_dir, ensure_success, allow_external_references, raise_immediately)\u001B[0m\n\u001B[1;32m    177\u001B[0m     \u001B[38;5;28;01mreturn\u001B[39;00m \u001B[38;5;129;01mnot\u001B[39;00m encountered_bad_response\n\u001B[1;32m    179\u001B[0m logger\u001B[38;5;241m.\u001B[39minfo(\u001B[38;5;124m\"\u001B[39m\u001B[38;5;124mStarted executing jobs locally\u001B[39m\u001B[38;5;124m\"\u001B[39m)\n\u001B[0;32m--> 180\u001B[0m finished_successfully \u001B[38;5;241m=\u001B[39m _run(flow)\n\u001B[1;32m    181\u001B[0m logger\u001B[38;5;241m.\u001B[39minfo(\u001B[38;5;124m\"\u001B[39m\u001B[38;5;124mFinished executing jobs locally\u001B[39m\u001B[38;5;124m\"\u001B[39m)\n\u001B[1;32m    183\u001B[0m \u001B[38;5;28;01mif\u001B[39;00m ensure_success \u001B[38;5;129;01mand\u001B[39;00m \u001B[38;5;129;01mnot\u001B[39;00m finished_successfully:\n",
      "File \u001B[0;32m~/miniconda3/envs/2025_01_06_Fix_automated_finetuning/lib/python3.11/site-packages/jobflow/managers/local.py:169\u001B[0m, in \u001B[0;36mrun_locally.<locals>._run\u001B[0;34m(root_flow)\u001B[0m\n\u001B[1;32m    167\u001B[0m job_dir \u001B[38;5;241m=\u001B[39m _get_job_dir()\n\u001B[1;32m    168\u001B[0m \u001B[38;5;28;01mwith\u001B[39;00m cd(job_dir):\n\u001B[0;32m--> 169\u001B[0m     response, jobflow_stopped \u001B[38;5;241m=\u001B[39m _run_job(job, parents)\n\u001B[1;32m    171\u001B[0m \u001B[38;5;28;01mif\u001B[39;00m response \u001B[38;5;129;01mis\u001B[39;00m \u001B[38;5;129;01mnot\u001B[39;00m \u001B[38;5;28;01mNone\u001B[39;00m:\n\u001B[1;32m    172\u001B[0m     response\u001B[38;5;241m.\u001B[39mjob_dir \u001B[38;5;241m=\u001B[39m job_dir\n",
      "File \u001B[0;32m~/miniconda3/envs/2025_01_06_Fix_automated_finetuning/lib/python3.11/site-packages/jobflow/managers/local.py:142\u001B[0m, in \u001B[0;36mrun_locally.<locals>._run_job\u001B[0;34m(job, parents)\u001B[0m\n\u001B[1;32m    139\u001B[0m diversion_responses \u001B[38;5;241m=\u001B[39m []\n\u001B[1;32m    140\u001B[0m \u001B[38;5;28;01mif\u001B[39;00m response\u001B[38;5;241m.\u001B[39mreplace \u001B[38;5;129;01mis\u001B[39;00m \u001B[38;5;129;01mnot\u001B[39;00m \u001B[38;5;28;01mNone\u001B[39;00m:\n\u001B[1;32m    141\u001B[0m     \u001B[38;5;66;03m# first run any restarts\u001B[39;00m\n\u001B[0;32m--> 142\u001B[0m     diversion_responses\u001B[38;5;241m.\u001B[39mappend(_run(response\u001B[38;5;241m.\u001B[39mreplace))\n\u001B[1;32m    144\u001B[0m \u001B[38;5;28;01mif\u001B[39;00m response\u001B[38;5;241m.\u001B[39mdetour \u001B[38;5;129;01mis\u001B[39;00m \u001B[38;5;129;01mnot\u001B[39;00m \u001B[38;5;28;01mNone\u001B[39;00m:\n\u001B[1;32m    145\u001B[0m     \u001B[38;5;66;03m# next any detours\u001B[39;00m\n\u001B[1;32m    146\u001B[0m     diversion_responses\u001B[38;5;241m.\u001B[39mappend(_run(response\u001B[38;5;241m.\u001B[39mdetour))\n",
      "File \u001B[0;32m~/miniconda3/envs/2025_01_06_Fix_automated_finetuning/lib/python3.11/site-packages/jobflow/managers/local.py:169\u001B[0m, in \u001B[0;36mrun_locally.<locals>._run\u001B[0;34m(root_flow)\u001B[0m\n\u001B[1;32m    167\u001B[0m job_dir \u001B[38;5;241m=\u001B[39m _get_job_dir()\n\u001B[1;32m    168\u001B[0m \u001B[38;5;28;01mwith\u001B[39;00m cd(job_dir):\n\u001B[0;32m--> 169\u001B[0m     response, jobflow_stopped \u001B[38;5;241m=\u001B[39m _run_job(job, parents)\n\u001B[1;32m    171\u001B[0m \u001B[38;5;28;01mif\u001B[39;00m response \u001B[38;5;129;01mis\u001B[39;00m \u001B[38;5;129;01mnot\u001B[39;00m \u001B[38;5;28;01mNone\u001B[39;00m:\n\u001B[1;32m    172\u001B[0m     response\u001B[38;5;241m.\u001B[39mjob_dir \u001B[38;5;241m=\u001B[39m job_dir\n",
      "File \u001B[0;32m~/miniconda3/envs/2025_01_06_Fix_automated_finetuning/lib/python3.11/site-packages/jobflow/managers/local.py:142\u001B[0m, in \u001B[0;36mrun_locally.<locals>._run_job\u001B[0;34m(job, parents)\u001B[0m\n\u001B[1;32m    139\u001B[0m diversion_responses \u001B[38;5;241m=\u001B[39m []\n\u001B[1;32m    140\u001B[0m \u001B[38;5;28;01mif\u001B[39;00m response\u001B[38;5;241m.\u001B[39mreplace \u001B[38;5;129;01mis\u001B[39;00m \u001B[38;5;129;01mnot\u001B[39;00m \u001B[38;5;28;01mNone\u001B[39;00m:\n\u001B[1;32m    141\u001B[0m     \u001B[38;5;66;03m# first run any restarts\u001B[39;00m\n\u001B[0;32m--> 142\u001B[0m     diversion_responses\u001B[38;5;241m.\u001B[39mappend(_run(response\u001B[38;5;241m.\u001B[39mreplace))\n\u001B[1;32m    144\u001B[0m \u001B[38;5;28;01mif\u001B[39;00m response\u001B[38;5;241m.\u001B[39mdetour \u001B[38;5;129;01mis\u001B[39;00m \u001B[38;5;129;01mnot\u001B[39;00m \u001B[38;5;28;01mNone\u001B[39;00m:\n\u001B[1;32m    145\u001B[0m     \u001B[38;5;66;03m# next any detours\u001B[39;00m\n\u001B[1;32m    146\u001B[0m     diversion_responses\u001B[38;5;241m.\u001B[39mappend(_run(response\u001B[38;5;241m.\u001B[39mdetour))\n",
      "File \u001B[0;32m~/miniconda3/envs/2025_01_06_Fix_automated_finetuning/lib/python3.11/site-packages/jobflow/managers/local.py:169\u001B[0m, in \u001B[0;36mrun_locally.<locals>._run\u001B[0;34m(root_flow)\u001B[0m\n\u001B[1;32m    167\u001B[0m job_dir \u001B[38;5;241m=\u001B[39m _get_job_dir()\n\u001B[1;32m    168\u001B[0m \u001B[38;5;28;01mwith\u001B[39;00m cd(job_dir):\n\u001B[0;32m--> 169\u001B[0m     response, jobflow_stopped \u001B[38;5;241m=\u001B[39m _run_job(job, parents)\n\u001B[1;32m    171\u001B[0m \u001B[38;5;28;01mif\u001B[39;00m response \u001B[38;5;129;01mis\u001B[39;00m \u001B[38;5;129;01mnot\u001B[39;00m \u001B[38;5;28;01mNone\u001B[39;00m:\n\u001B[1;32m    172\u001B[0m     response\u001B[38;5;241m.\u001B[39mjob_dir \u001B[38;5;241m=\u001B[39m job_dir\n",
      "File \u001B[0;32m~/miniconda3/envs/2025_01_06_Fix_automated_finetuning/lib/python3.11/site-packages/jobflow/managers/local.py:114\u001B[0m, in \u001B[0;36mrun_locally.<locals>._run_job\u001B[0;34m(job, parents)\u001B[0m\n\u001B[1;32m    111\u001B[0m     \u001B[38;5;28;01mreturn\u001B[39;00m \u001B[38;5;28;01mNone\u001B[39;00m, \u001B[38;5;28;01mFalse\u001B[39;00m\n\u001B[1;32m    113\u001B[0m \u001B[38;5;28;01mif\u001B[39;00m raise_immediately:\n\u001B[0;32m--> 114\u001B[0m     response \u001B[38;5;241m=\u001B[39m job\u001B[38;5;241m.\u001B[39mrun(store\u001B[38;5;241m=\u001B[39mstore)\n\u001B[1;32m    115\u001B[0m \u001B[38;5;28;01melse\u001B[39;00m:\n\u001B[1;32m    116\u001B[0m     \u001B[38;5;28;01mtry\u001B[39;00m:\n",
      "File \u001B[0;32m~/miniconda3/envs/2025_01_06_Fix_automated_finetuning/lib/python3.11/site-packages/jobflow/core/job.py:604\u001B[0m, in \u001B[0;36mJob.run\u001B[0;34m(self, store, job_dir)\u001B[0m\n\u001B[1;32m    601\u001B[0m \u001B[38;5;28;01mif\u001B[39;00m bound \u001B[38;5;129;01mis\u001B[39;00m \u001B[38;5;129;01mnot\u001B[39;00m \u001B[38;5;28;01mNone\u001B[39;00m \u001B[38;5;129;01mand\u001B[39;00m \u001B[38;5;129;01mnot\u001B[39;00m \u001B[38;5;28misinstance\u001B[39m(bound, types\u001B[38;5;241m.\u001B[39mModuleType):\n\u001B[1;32m    602\u001B[0m     function \u001B[38;5;241m=\u001B[39m types\u001B[38;5;241m.\u001B[39mMethodType(function, bound)\n\u001B[0;32m--> 604\u001B[0m response \u001B[38;5;241m=\u001B[39m function(\u001B[38;5;241m*\u001B[39m\u001B[38;5;28mself\u001B[39m\u001B[38;5;241m.\u001B[39mfunction_args, \u001B[38;5;241m*\u001B[39m\u001B[38;5;241m*\u001B[39m\u001B[38;5;28mself\u001B[39m\u001B[38;5;241m.\u001B[39mfunction_kwargs)\n\u001B[1;32m    605\u001B[0m response \u001B[38;5;241m=\u001B[39m Response\u001B[38;5;241m.\u001B[39mfrom_job_returns(\n\u001B[1;32m    606\u001B[0m     response, \u001B[38;5;28mself\u001B[39m\u001B[38;5;241m.\u001B[39moutput_schema, job_dir\u001B[38;5;241m=\u001B[39mjob_dir\n\u001B[1;32m    607\u001B[0m )\n\u001B[1;32m    609\u001B[0m \u001B[38;5;28;01mif\u001B[39;00m response\u001B[38;5;241m.\u001B[39mreplace \u001B[38;5;129;01mis\u001B[39;00m \u001B[38;5;129;01mnot\u001B[39;00m \u001B[38;5;28;01mNone\u001B[39;00m:\n",
      "File \u001B[0;32m/smb/jgeorge/hpc-user/PycharmProjects/2025_01_06_Fix_automated_finetuning/autoplex/src/autoplex/data/rss/flows.py:83\u001B[0m, in \u001B[0;36mBuildMultiRandomizedStructure.make\u001B[0;34m(self)\u001B[0m\n\u001B[1;32m     73\u001B[0m     \u001B[38;5;28;01massert\u001B[39;00m \u001B[38;5;28mlen\u001B[39m(\u001B[38;5;28mself\u001B[39m\u001B[38;5;241m.\u001B[39mgenerated_struct_numbers) \u001B[38;5;241m==\u001B[39m \u001B[38;5;28mlen\u001B[39m(\u001B[38;5;28mself\u001B[39m\u001B[38;5;241m.\u001B[39mbuildcell_options)\n\u001B[1;32m     74\u001B[0m     buildcell_option \u001B[38;5;241m=\u001B[39m \u001B[38;5;28mself\u001B[39m\u001B[38;5;241m.\u001B[39mbuildcell_options[i]\n\u001B[1;32m     75\u001B[0m job_struct \u001B[38;5;241m=\u001B[39m RandomizedStructure(\n\u001B[1;32m     76\u001B[0m     tag\u001B[38;5;241m=\u001B[39m\u001B[38;5;28mself\u001B[39m\u001B[38;5;241m.\u001B[39mtag,\n\u001B[1;32m     77\u001B[0m     struct_number\u001B[38;5;241m=\u001B[39mstruct_number,\n\u001B[1;32m     78\u001B[0m     remove_tmp_files\u001B[38;5;241m=\u001B[39m\u001B[38;5;28mself\u001B[39m\u001B[38;5;241m.\u001B[39mremove_tmp_files,\n\u001B[1;32m     79\u001B[0m     buildcell_option\u001B[38;5;241m=\u001B[39mbuildcell_option,\n\u001B[1;32m     80\u001B[0m     fragment_file\u001B[38;5;241m=\u001B[39m\u001B[38;5;28mself\u001B[39m\u001B[38;5;241m.\u001B[39mfragment_file,\n\u001B[1;32m     81\u001B[0m     fragment_numbers\u001B[38;5;241m=\u001B[39m\u001B[38;5;28mself\u001B[39m\u001B[38;5;241m.\u001B[39mfragment_numbers,\n\u001B[1;32m     82\u001B[0m     num_processes\u001B[38;5;241m=\u001B[39m\u001B[38;5;28mself\u001B[39m\u001B[38;5;241m.\u001B[39mnum_processes,\n\u001B[0;32m---> 83\u001B[0m )\u001B[38;5;241m.\u001B[39mmake()\n\u001B[1;32m     84\u001B[0m job_struct\u001B[38;5;241m.\u001B[39mname \u001B[38;5;241m=\u001B[39m \u001B[38;5;124mf\u001B[39m\u001B[38;5;124m\"\u001B[39m\u001B[38;5;132;01m{\u001B[39;00m\u001B[38;5;28mself\u001B[39m\u001B[38;5;241m.\u001B[39mname\u001B[38;5;132;01m}\u001B[39;00m\u001B[38;5;124m_\u001B[39m\u001B[38;5;132;01m{\u001B[39;00mi\u001B[38;5;132;01m}\u001B[39;00m\u001B[38;5;124m\"\u001B[39m\n\u001B[1;32m     86\u001B[0m \u001B[38;5;28;01mif\u001B[39;00m \u001B[38;5;28mself\u001B[39m\u001B[38;5;241m.\u001B[39minitial_selection_enabled:\n",
      "File \u001B[0;32m~/miniconda3/envs/2025_01_06_Fix_automated_finetuning/lib/python3.11/site-packages/monty/dev.py:215\u001B[0m, in \u001B[0;36mrequires.__call__.<locals>.decorated\u001B[0;34m(*args, **kwargs)\u001B[0m\n\u001B[1;32m    212\u001B[0m \u001B[38;5;129m@functools\u001B[39m\u001B[38;5;241m.\u001B[39mwraps(_callable)\n\u001B[1;32m    213\u001B[0m \u001B[38;5;28;01mdef\u001B[39;00m \u001B[38;5;21mdecorated\u001B[39m(\u001B[38;5;241m*\u001B[39margs, \u001B[38;5;241m*\u001B[39m\u001B[38;5;241m*\u001B[39mkwargs):\n\u001B[1;32m    214\u001B[0m     \u001B[38;5;28;01mif\u001B[39;00m \u001B[38;5;129;01mnot\u001B[39;00m \u001B[38;5;28mself\u001B[39m\u001B[38;5;241m.\u001B[39mcondition:\n\u001B[0;32m--> 215\u001B[0m         \u001B[38;5;28;01mraise\u001B[39;00m \u001B[38;5;28mself\u001B[39m\u001B[38;5;241m.\u001B[39merr_cls(\u001B[38;5;28mself\u001B[39m\u001B[38;5;241m.\u001B[39mmessage)\n\u001B[1;32m    216\u001B[0m     \u001B[38;5;28;01mreturn\u001B[39;00m _callable(\u001B[38;5;241m*\u001B[39margs, \u001B[38;5;241m*\u001B[39m\u001B[38;5;241m*\u001B[39mkwargs)\n",
      "\u001B[0;31mRuntimeError\u001B[0m: RSS flows requires the executable 'buildcell' to be in PATH. Please follow the instructions in the autoplex documentation to install the AIRSS library and add it to PATH. Link to the documentation: https://autoatml.github.io/autoplex/user/index.html#enabling-rss-workflows"
     ]
    }
   ],
   "execution_count": 4
  }
 ],
 "metadata": {
  "kernelspec": {
   "display_name": "Python 3",
   "language": "python",
   "name": "python3"
  },
  "language_info": {
   "codemirror_mode": {
    "name": "ipython",
    "version": 2
   },
   "file_extension": ".py",
   "mimetype": "text/x-python",
   "name": "python",
   "nbconvert_exporter": "python",
   "pygments_lexer": "ipython2",
   "version": "2.7.6"
  }
 },
 "nbformat": 4,
 "nbformat_minor": 5
}
